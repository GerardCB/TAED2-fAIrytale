{
 "cells": [
  {
   "cell_type": "markdown",
   "metadata": {},
   "source": [
    "## Image generation"
   ]
  },
  {
   "cell_type": "code",
   "execution_count": null,
   "metadata": {},
   "outputs": [],
   "source": [
    "%pip install diffusers==0.3.0\n",
    "%pip install transformers scipy ftfy\n",
    "%pip install \"ipywidgets>=7,<8\"\n",
    "\n",
    "from google.colab import output\n",
    "output.enable_custom_widget_manager()"
   ]
  },
  {
   "cell_type": "code",
   "execution_count": null,
   "metadata": {},
   "outputs": [],
   "source": [
    "from huggingface_hub import notebook_login\n",
    "\n",
    "notebook_login()"
   ]
  },
  {
   "cell_type": "code",
   "execution_count": null,
   "metadata": {},
   "outputs": [],
   "source": [
    "import torch\n",
    "from diffusers import StableDiffusionPipeline\n",
    "\n",
    "# make sure you're logged in with `huggingface-cli login`\n",
    "pipe = StableDiffusionPipeline.from_pretrained(\"CompVis/stable-diffusion-v1-4\", revision=\"fp16\", torch_dtype=torch.float16, use_auth_token=True)\n",
    "pipe.safety_checker = lambda images, clip_input: (images, False) # remove safety checker\n",
    "pipe = pipe.to(\"cuda\")"
   ]
  },
  {
   "cell_type": "code",
   "execution_count": null,
   "metadata": {},
   "outputs": [],
   "source": [
    "from PIL import Image\n",
    "\n",
    "def image_grid(imgs, rows, cols):\n",
    "    assert len(imgs) == rows*cols\n",
    "\n",
    "    w, h = imgs[0].size\n",
    "    grid = Image.new('RGB', size=(cols*w, rows*h))\n",
    "    grid_w, grid_h = grid.size\n",
    "    \n",
    "    for i, img in enumerate(imgs):\n",
    "        grid.paste(img, box=(i%cols*w, i//cols*h))\n",
    "    return grid\n"
   ]
  },
  {
   "cell_type": "code",
   "execution_count": null,
   "metadata": {},
   "outputs": [],
   "source": [
    "from torch import autocast\n",
    "\n",
    "n_examples = 5\n",
    "\n",
    "for i in range(n_examples):\n",
    "  book_idx = random.randint(0, len(books)-1)\n",
    "  book = books[book_idx]\n",
    "  book_url = book['book_url']\n",
    "  pairs = list(zip(book['book_img'], book['book_txt']))\n",
    "  pair_idx = random.randint(0, len(pairs)-1)\n",
    "  img, txt = pairs[pair_idx]\n",
    "\n",
    "  print(f'\\nExample {i}: book {book_idx} ({book_url}), paragraph {pair_idx}')\n",
    "  print('\\tReference text:', txt)\n",
    "  urllib.request.urlretrieve(img, f\"{i}.png\")\n",
    "  Img = Image.open(f\"{i}.png\")\n",
    "  print('\\tReference image:')\n",
    "  display(Img)\n",
    "\n",
    "  prompt = txt\n",
    "  with autocast(\"cuda\"):\n",
    "    gen_image = pipe(prompt + \", colorful children's book illustration.\").images[0]\n",
    "  print('\\tGenerated image:')\n",
    "  display(gen_image)"
   ]
  }
 ],
 "metadata": {
  "kernelspec": {
   "display_name": "Python 3.10.6 64-bit",
   "language": "python",
   "name": "python3"
  },
  "language_info": {
   "codemirror_mode": {
    "name": "ipython",
    "version": 3
   },
   "file_extension": ".py",
   "mimetype": "text/x-python",
   "name": "python",
   "nbconvert_exporter": "python",
   "pygments_lexer": "ipython3",
   "version": "3.10.6"
  },
  "orig_nbformat": 4,
  "vscode": {
   "interpreter": {
    "hash": "b0fa6594d8f4cbf19f97940f81e996739fb7646882a419484c72d19e05852a7e"
   }
  }
 },
 "nbformat": 4,
 "nbformat_minor": 2
}
