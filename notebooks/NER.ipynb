{
Pau
  "cells": [
    {
      "cell_type": "markdown",
      "metadata": {
        "id": "zuP4_79gBDXb"
      },
      "source": [
        "# Named Entity Recognition: characters extraction"
      ]
    },
    {
      "cell_type": "markdown",
      "source": [
        "Named Entity Recognition: characters extaction combining Flair(NER) and Roberta (QA, MNLI)"
      ],
      "metadata": {
        "id": "jJFQpbD3BLGa"
      }
    },
    {
      "cell_type": "markdown",
      "metadata": {
        "id": "F-3L18ANBDXn"
      },
      "source": [
        "#### V2: Flair (NER) + Roberta (QA, MNLI)"
      ]
    },
    {
      "cell_type": "code",
      "execution_count": null,
      "metadata": {
        "id": "MSous5u0BDX1"
      },
      "outputs": [],
      "source": [
        "%pip install flair\n",
        "from flair.data import Sentence\n",
        "from flair.models import SequenceTagger\n",
        "from transformers import pipeline"
      ]
    },
    {
      "cell_type": "code",
      "execution_count": null,
      "metadata": {
        "id": "K7SLLUEyBDX3"
      },
      "outputs": [],
      "source": [
        "# load tagger\n",
        "tagger = SequenceTagger.load(\"flair/ner-english\")\n",
        "qa_model = pipeline(\"question-answering\")\n",
        "filter_classifier = pipeline('zero-shot-classification', model='roberta-large-mnli')"
      ]
    },
    {
      "cell_type": "code",
      "execution_count": null,
      "metadata": {
        "id": "eryHNLMTBDX-"
      },
      "outputs": [],
      "source": [
        "# Extract characters from book\n",
        "idx = 2\n",
        "book_txt = books[idx]['book_txt']\n",
        "\n",
        "characters = []\n",
        "for sent in book_txt:\n",
        "  sentence = Sentence(sent)\n",
        "  tagger.predict(sentence)\n",
        "  for i, en in enumerate(sentence.get_spans('ner')):\n",
        "    if en.tag == 'PER':\n",
        "      characters.append(' '.join(list(str(token.text).replace('’s','').replace('’','') for token in en.tokens)))\n",
        "      #scores.append(str(round(en.score, 2)))\n",
        "\n",
        "book_characters = set(character for character, count in Counter(characters).items()) # if count > 1 ?\n",
        "print(book_characters)\n",
        "\n",
        "# Extract descriptions\n",
        "book_full_txt = ' \\n'.join(book_txt)\n",
        "object_filter_labels = ['person', 'animal', 'object']\n",
        "\n",
        "characters = {}\n",
        "for character in book_characters:\n",
        "  appearance_question = f\"What does {character} look like?\"\n",
        "  animal_question = f\"What type of animal is {character}?\"\n",
        "  appearance = qa_model(question=appearance_question, context=book_full_txt)\n",
        "  animal = qa_model(question=animal_question, context=book_full_txt)\n",
        "\n",
        "  # Correct characters mislabeled as objects\n",
        "  is_object = filter_classifier(animal['answer'], object_filter_labels)\n",
        "  if is_object['labels'][0] == 'object':\n",
        "    animal['answer'] = 'person'\n",
        "\n",
        "  characters[character] = {'animal': animal['answer'], 'appearance': appearance['answer']}\n",
        "\n",
        "print(characters)"
      ]
    },
    {
      "cell_type": "markdown",
      "source": [
        "fAIrytale GCED 2022-2023\n",
        "- Gerard Calvo\n",
        "- Helena Ferran\n",
        "- David Pujalte\n",
        "- Pau Tarragó\n",
        "- Marc Torrens"
      ],
      "metadata": {
        "id": "f3upThK9BUeD"
      }
    }
  ],
  "metadata": {
    "kernelspec": {
      "display_name": "Python 3.10.6 64-bit",
      "language": "python",
      "name": "python3"
    },
    "language_info": {
      "codemirror_mode": {
        "name": "ipython",
        "version": 3
      },
      "file_extension": ".py",
      "mimetype": "text/x-python",
      "name": "python",
      "nbconvert_exporter": "python",
      "pygments_lexer": "ipython3",
      "version": "3.10.6"
    },
    "orig_nbformat": 4,
    "vscode": {
      "interpreter": {
        "hash": "b0fa6594d8f4cbf19f97940f81e996739fb7646882a419484c72d19e05852a7e"
      }
    },
    "colab": {
      "provenance": []
    }
  },
  "nbformat": 4,
  "nbformat_minor": 0
}
=======
 "cells": [
  {
   "cell_type": "markdown",
   "metadata": {},
   "source": [
    "## Named Entity Recognition: characters extraction"
   ]
  },
  {
   "cell_type": "markdown",
   "metadata": {},
   "source": [
    "#### V2: Flair (NER) + Roberta (QA, MNLI)"
   ]
  },
  {
   "cell_type": "code",
   "execution_count": null,
   "metadata": {},
   "outputs": [],
   "source": [
    "%pip install flair\n",
    "from flair.data import Sentence\n",
    "from flair.models import SequenceTagger\n",
    "from transformers import pipeline"
   ]
  },
  {
   "cell_type": "code",
   "execution_count": null,
   "metadata": {},
   "outputs": [],
   "source": [
    "# load tagger\n",
    "tagger = SequenceTagger.load(\"flair/ner-english\")\n",
    "qa_model = pipeline(\"question-answering\")\n",
    "filter_classifier = pipeline('zero-shot-classification', model='roberta-large-mnli')"
   ]
  },
  {
   "cell_type": "code",
   "execution_count": null,
   "metadata": {},
   "outputs": [],
   "source": [
    "# Extract characters from book\n",
    "idx = 2\n",
    "book_txt = books[idx]['book_txt']\n",
    "\n",
    "characters = []\n",
    "for sent in book_txt:\n",
    "  sentence = Sentence(sent)\n",
    "  tagger.predict(sentence)\n",
    "  for i, en in enumerate(sentence.get_spans('ner')):\n",
    "    if en.tag == 'PER':\n",
    "      characters.append(' '.join(list(str(token.text).replace('’s','').replace('’','') for token in en.tokens)))\n",
    "      #scores.append(str(round(en.score, 2)))\n",
    "\n",
    "book_characters = set(character for character, count in Counter(characters).items()) # if count > 1 ?\n",
    "print(book_characters)\n",
    "\n",
    "# Extract descriptions\n",
    "book_full_txt = ' \\n'.join(book_txt)\n",
    "object_filter_labels = ['person', 'animal', 'object']\n",
    "\n",
    "characters = {}\n",
    "for character in book_characters:\n",
    "  appearance_question = f\"What does {character} look like?\"\n",
    "  animal_question = f\"What type of animal is {character}?\"\n",
    "  appearance = qa_model(question=appearance_question, context=book_full_txt)\n",
    "  animal = qa_model(question=animal_question, context=book_full_txt)\n",
    "\n",
    "  # Correct characters mislabeled as objects\n",
    "  is_object = filter_classifier(animal['answer'], object_filter_labels)\n",
    "  if is_object['labels'][0] == 'object':\n",
    "    animal['answer'] = 'person'\n",
    "\n",
    "  characters[character] = {'animal': animal['answer'], 'appearance': appearance['answer']}\n",
    "\n",
    "print(characters)"
   ]
  },
  {
   "cell_type": "code",
   "execution_count": null,
   "metadata": {},
   "outputs": [],
   "source": []
  }
 ],
 "metadata": {
  "kernelspec": {
   "display_name": "Python 3.10.6 64-bit",
   "language": "python",
   "name": "python3"
  },
  "language_info": {
   "codemirror_mode": {
    "name": "ipython",
    "version": 3
   },
   "file_extension": ".py",
   "mimetype": "text/x-python",
   "name": "python",
   "nbconvert_exporter": "python",
   "pygments_lexer": "ipython3",
   "version": "3.10.6"
  },
  "orig_nbformat": 4,
  "vscode": {
   "interpreter": {
    "hash": "b0fa6594d8f4cbf19f97940f81e996739fb7646882a419484c72d19e05852a7e"
   }
  }
 },
 "nbformat": 4,
 "nbformat_minor": 2
}
